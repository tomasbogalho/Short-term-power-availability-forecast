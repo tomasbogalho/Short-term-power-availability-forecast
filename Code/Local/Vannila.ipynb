{
 "cells": [
  {
   "cell_type": "markdown",
   "metadata": {},
   "source": [
    "# 0 - Initializations"
   ]
  },
  {
   "cell_type": "code",
   "execution_count": 1,
   "metadata": {},
   "outputs": [
    {
     "name": "stderr",
     "output_type": "stream",
     "text": [
      "Using TensorFlow backend.\n"
     ]
    }
   ],
   "source": [
    "import os\n",
    "os.environ['CUDA_VISIBLE_DEVICES'] = '0'\n",
    "\n",
    "import tensorflow as tf\n",
    "physical_devices = tf.config.list_physical_devices('GPU')\n",
    "tf.config.experimental.set_memory_growth(physical_devices[0], enable=True)\n",
    "\n",
    "import pandas as pd\n",
    "import matplotlib.pyplot as plt\n",
    "import numpy as np\n",
    "import time\n",
    "import csv\n",
    "\n",
    "from pylab import rcParams\n",
    "import seaborn as sns\n",
    "import math\n",
    "import os\n",
    "from datetime import datetime,  timedelta\n",
    "\n",
    "from sklearn.preprocessing import MinMaxScaler\n",
    "from sklearn.preprocessing import StandardScaler\n",
    "from sklearn.decomposition import PCA\n",
    "from sklearn.preprocessing import RobustScaler\n",
    "from sklearn.metrics import mean_squared_error\n",
    "from sklearn.ensemble import GradientBoostingRegressor\n",
    "\n",
    "from sklearn.datasets import make_regression\n",
    "from sklearn.model_selection import cross_val_score\n",
    "from sklearn.model_selection import RepeatedKFold\n",
    "from sklearn.linear_model import LinearRegression\n",
    "from sklearn.ensemble import StackingRegressor\n",
    " \n",
    "from matplotlib import pyplot\n",
    "\n",
    "from solarpy import irradiance_on_plane\n",
    "from solarpy import solar_panel\n",
    "from numpy import array\n",
    "\n",
    "from statsmodels.tsa.arima_model import ARIMA\n",
    "from statsmodels.tsa.seasonal import seasonal_decompose\n",
    "from statsmodels.tsa.statespace.sarimax import SARIMAX\n",
    "\n",
    "from tensorflow import keras\n",
    "from tensorflow.keras import layers\n",
    "from tensorflow.keras import models\n",
    "from tensorflow.keras.models import Sequential, model_from_json\n",
    "from tensorflow.keras.layers import Input, Dense, GRU, Embedding, LSTM, Dropout, Conv1D, MaxPooling1D, Flatten, GlobalMaxPooling1D, RepeatVector, Lambda, TimeDistributed, Embedding, TimeDistributed, BatchNormalization, Reshape, concatenate, Permute\n",
    "from tensorflow.keras.optimizers import RMSprop, Adam\n",
    "from tensorflow.keras.callbacks import EarlyStopping, ModelCheckpoint, TensorBoard, ReduceLROnPlateau, CSVLogger\n",
    "from tensorflow.keras.backend import square, mean\n",
    "from tensorflow.keras.preprocessing.sequence import TimeseriesGenerator\n",
    "from tensorflow.keras.utils import to_categorical\n",
    "from keras.utils.vis_utils import plot_model\n",
    "\n",
    "#%run Database.ipynb\n",
    "%run AuxFunctions.ipynb\n",
    "\n",
    "plt.rcParams.update({'figure.figsize':(20,7), 'figure.dpi':300})"
   ]
  },
  {
   "cell_type": "markdown",
   "metadata": {},
   "source": [
    "# 1 - Data Preparation"
   ]
  },
  {
   "cell_type": "markdown",
   "metadata": {},
   "source": [
    "Cololect building data"
   ]
  },
  {
   "cell_type": "code",
   "execution_count": 2,
   "metadata": {},
   "outputs": [],
   "source": [
    "df_pv, df_consumption = collectFromDatabase(False)"
   ]
  },
  {
   "cell_type": "markdown",
   "metadata": {},
   "source": [
    "Build entire dataset"
   ]
  },
  {
   "cell_type": "code",
   "execution_count": 3,
   "metadata": {},
   "outputs": [],
   "source": [
    "dfinal = getData(local = True)"
   ]
  },
  {
   "cell_type": "markdown",
   "metadata": {},
   "source": [
    "# 2 - Build dataframes"
   ]
  },
  {
   "cell_type": "code",
   "execution_count": 4,
   "metadata": {},
   "outputs": [],
   "source": [
    "a1, a2, a3, a4, a5, v1, v2, v3, v4, t5, d6 = getDatasets(dfinal)"
   ]
  },
  {
   "cell_type": "markdown",
   "metadata": {},
   "source": [
    "# 3.1 - Define the train and validation sets"
   ]
  },
  {
   "cell_type": "code",
   "execution_count": null,
   "metadata": {},
   "outputs": [],
   "source": [
    "model_name = 'F2-LSTM-256-4-CI' "
   ]
  },
  {
   "cell_type": "code",
   "execution_count": null,
   "metadata": {},
   "outputs": [],
   "source": [
    "dt = a4.copy()\n",
    "dataset = '4'\n",
    "\n",
    "final_features = features2()\n",
    "dt = dt[final_features].copy()"
   ]
  },
  {
   "cell_type": "code",
   "execution_count": null,
   "metadata": {},
   "outputs": [],
   "source": [
    "dt_val = v4.copy()\n",
    "\n",
    "final_features = features2()\n",
    "dt_val = dt_val[final_features].copy()"
   ]
  },
  {
   "cell_type": "code",
   "execution_count": null,
   "metadata": {},
   "outputs": [],
   "source": [
    "dt_test = t5.copy()\n",
    "\n",
    "final_features = features2()\n",
    "dt_test = dt_test[final_features].copy()"
   ]
  },
  {
   "cell_type": "code",
   "execution_count": null,
   "metadata": {},
   "outputs": [],
   "source": [
    "train = dt.values\n",
    "val = dt_val.values\n",
    "test = dt_test.values"
   ]
  },
  {
   "cell_type": "markdown",
   "metadata": {},
   "source": [
    "# 3.2 - Build supervised learning sequences"
   ]
  },
  {
   "cell_type": "code",
   "execution_count": null,
   "metadata": {},
   "outputs": [],
   "source": [
    "n_pre = 60\n",
    "n_post = 15\n",
    "\n",
    "dX, dY = [], []\n",
    "for i in range(len(train)-n_pre-n_post):\n",
    "    dX.append(train[i:i+n_pre])\n",
    "trainX = np.array(dX)\n",
    "\n",
    "\n",
    "for i in range(len(train)-n_pre-n_post):\n",
    "\n",
    "    ar = np.array(([row[7] for row in train[i+n_pre:i+n_pre+n_post]][4], [row[7] for row in train[i+n_pre:i+n_pre+n_post]][9], [row[7] for row in train[i+n_pre:i+n_pre+n_post]][14]))\n",
    "    B = ar.reshape(-1, len(ar))\n",
    "    dY.append(B)\n",
    "    \n",
    "trainY = np.array(dY)\n",
    "\n",
    "\n",
    "vX, vY = [], []\n",
    "for i in range(len(val)-n_pre-n_post):\n",
    "    vX.append(val[i:i+n_pre])\n",
    "valX = np.array(vX)\n",
    "\n",
    "for i in range(len(val)-n_pre-n_post):\n",
    "\n",
    "    ar = np.array(([row[7] for row in val[i+n_pre:i+n_pre+n_post]][4], [row[7] for row in val[i+n_pre:i+n_pre+n_post]][9], [row[7] for row in val[i+n_pre:i+n_pre+n_post]][14]))\n",
    "    B = ar.reshape(-1, len(ar))\n",
    "    vY.append(B)\n",
    "\n",
    "valY = np.array(vY)"
   ]
  },
  {
   "cell_type": "code",
   "execution_count": null,
   "metadata": {},
   "outputs": [],
   "source": [
    "trainX_original = trainX.copy()\n",
    "trainY_original = trainY.copy()\n",
    "valX_original = valX.copy()\n",
    "valY_original = valY.copy()"
   ]
  },
  {
   "cell_type": "code",
   "execution_count": null,
   "metadata": {},
   "outputs": [],
   "source": [
    "trainY = trainY.reshape(trainY.shape[0], trainY.shape[2])\n",
    "valY = valY.reshape(valY.shape[0], valY.shape[2])"
   ]
  },
  {
   "cell_type": "code",
   "execution_count": null,
   "metadata": {
    "scrolled": true
   },
   "outputs": [],
   "source": [
    "trainX.shape, trainY.shape, valX.shape, valY.shape"
   ]
  },
  {
   "cell_type": "code",
   "execution_count": null,
   "metadata": {},
   "outputs": [],
   "source": [
    "tX, tY = [], []\n",
    "for i in range(len(test)-n_pre-n_post):\n",
    "    tX.append(test[i:i+n_pre])\n",
    "testX = np.array(tX)\n",
    "\n",
    "for i in range(len(test)-n_pre-n_post):\n",
    "\n",
    "    ar = np.array(([row[7] for row in test[i+n_pre:i+n_pre+n_post]][4], [row[7] for row in test[i+n_pre:i+n_pre+n_post]][9], [row[7] for row in test[i+n_pre:i+n_pre+n_post]][14]))\n",
    "    B = ar.reshape(-1, len(ar))\n",
    "    tY.append(B)\n",
    "\n",
    "testY = np.array(tY)"
   ]
  },
  {
   "cell_type": "code",
   "execution_count": null,
   "metadata": {},
   "outputs": [],
   "source": [
    "testX_original = testX.copy()\n",
    "testY_original = testY.copy()"
   ]
  },
  {
   "cell_type": "code",
   "execution_count": null,
   "metadata": {},
   "outputs": [],
   "source": [
    "testY = testY.reshape(testY.shape[0], testY.shape[2])"
   ]
  },
  {
   "cell_type": "code",
   "execution_count": null,
   "metadata": {},
   "outputs": [],
   "source": [
    "trainX.shape, trainY.shape, valX.shape, valY.shape, testX.shape, testY.shape"
   ]
  },
  {
   "cell_type": "markdown",
   "metadata": {},
   "source": [
    "# 3.3 - Scale the data"
   ]
  },
  {
   "cell_type": "code",
   "execution_count": null,
   "metadata": {},
   "outputs": [],
   "source": [
    "scalersX = {}\n",
    "\n",
    "for i in range(trainX.shape[2]):\n",
    "    scalersX[i] = MinMaxScaler(feature_range=(0, 1))\n",
    "    trainX[:, :, i] = scalersX[i].fit_transform(trainX[:, :, i]) \n",
    "\n",
    "for i in range(valX.shape[2]):\n",
    "    valX[:, :, i] = scalersX[i].transform(valX[:, :, i]) \n",
    "    \n",
    "for i in range(testX.shape[2]):\n",
    "    testX[:, :, i] = scalersX[i].transform(testX[:, :, i]) "
   ]
  },
  {
   "cell_type": "code",
   "execution_count": null,
   "metadata": {},
   "outputs": [],
   "source": [
    "scalerY = MinMaxScaler(feature_range=(0, 1))\n",
    "trainY = scalerY.fit_transform(trainY) \n",
    "valY = scalerY.transform(valY)\n",
    "testY = scalerY.transform(testY)"
   ]
  },
  {
   "cell_type": "code",
   "execution_count": null,
   "metadata": {},
   "outputs": [],
   "source": [
    "testY[0,0]"
   ]
  },
  {
   "cell_type": "markdown",
   "metadata": {},
   "source": [
    "# 3.4 - Create and train the model"
   ]
  },
  {
   "cell_type": "markdown",
   "metadata": {},
   "source": [
    "Load existing model"
   ]
  },
  {
   "cell_type": "code",
   "execution_count": null,
   "metadata": {},
   "outputs": [],
   "source": [
    "# load json and create model\n",
    "json_file = open('AZURE/files3/outputs/models/'+'ED-GRU-256-1-60', 'r')\n",
    "loaded_model_json = json_file.read()\n",
    "json_file.close()\n",
    "loaded_model = model_from_json(loaded_model_json)\n",
    "# load weights into new model\n",
    "loaded_model.load_weights('AZURE/files3/outputs/models/'+'ED-GRU-256-1-60' + '.h5')\n",
    "print(\"Loaded model from disk\")"
   ]
  },
  {
   "cell_type": "code",
   "execution_count": null,
   "metadata": {},
   "outputs": [],
   "source": [
    "loaded_model.compile(loss='mse', optimizer='adam', metrics = ['mae', 'mse', tf.keras.metrics.RootMeanSquaredError()])"
   ]
  },
  {
   "cell_type": "markdown",
   "metadata": {},
   "source": [
    "Create new model"
   ]
  },
  {
   "cell_type": "code",
   "execution_count": null,
   "metadata": {},
   "outputs": [],
   "source": [
    "print('creating model...')\n",
    "model = create_model_vanilla(steps_before = n_pre, feature_count = 8, units = 256, layer = 'LSTM', intervals = True)\n",
    "callbacks, path_checkpoint = callbacksFunction(model_name, dataset)"
   ]
  },
  {
   "cell_type": "code",
   "execution_count": null,
   "metadata": {},
   "outputs": [],
   "source": [
    "history = train_model(model, trainX, trainY, valX, valY, 512, 100, callbacks, True)"
   ]
  },
  {
   "cell_type": "code",
   "execution_count": null,
   "metadata": {},
   "outputs": [],
   "source": [
    "try:\n",
    "    model.load_weights(path_checkpoint)\n",
    "except Exception as error:\n",
    "    print(\"Error trying to load checkpoint.\")\n",
    "    print(error)"
   ]
  },
  {
   "cell_type": "code",
   "execution_count": null,
   "metadata": {},
   "outputs": [],
   "source": [
    "n_epochs = len(history.history['loss'])\n",
    "times = callbacks[4].times \n",
    "Time_Epoch = Average(times) \n",
    "Total_Time = sum(times) \n",
    "\n",
    "Train_mae = min(history.history['mae'])\n",
    "Train_mse = min(history.history['mse'])\n",
    "Train_rmse = min(history.history['root_mean_squared_error'])\n",
    "\n",
    "Validation_mae = min(history.history['val_mae'])\n",
    "Validation_mse = min(history.history['val_mse'])\n",
    "Validation_rmse = min(history.history['val_root_mean_squared_error'])"
   ]
  },
  {
   "cell_type": "markdown",
   "metadata": {},
   "source": [
    "# 3.5 - Perform predictions"
   ]
  },
  {
   "cell_type": "markdown",
   "metadata": {},
   "source": [
    "Single prediction (without intervals)"
   ]
  },
  {
   "cell_type": "code",
   "execution_count": null,
   "metadata": {},
   "outputs": [],
   "source": [
    "predict = loaded_model.predict(testX)\n",
    "predict_original = predict.copy()\n",
    "nan_array = np.empty((n_pre - 1))\n",
    "nan_array.fill(np.nan)\n",
    "nan_array2 = np.empty(n_post)\n",
    "nan_array2.fill(np.nan)\n",
    "ind = np.arange(n_pre + n_post)\n",
    "predict = scalerY.inverse_transform(predict_original)"
   ]
  },
  {
   "cell_type": "markdown",
   "metadata": {},
   "source": [
    "N=20 predictions (with intervals)"
   ]
  },
  {
   "cell_type": "code",
   "execution_count": null,
   "metadata": {},
   "outputs": [],
   "source": [
    "nan_array = np.empty((n_pre - 1))\n",
    "nan_array.fill(np.nan)\n",
    "nan_array2 = np.empty(n_post)\n",
    "nan_array2.fill(np.nan)\n",
    "ind = np.arange(n_pre + n_post)\n",
    "\n",
    "GlobalPredictions = []\n",
    "GlobalPredictions_normalized = []\n",
    "\n",
    "for j in range (0,20):\n",
    "    \n",
    "    print(j, end= ' ')\n",
    "    predict_ = model.predict(testX)\n",
    "    predict_original_ = predict_.copy()\n",
    "\n",
    "    predict = scalerY.inverse_transform(predict_)\n",
    "    \n",
    "    GlobalPredictions.append(predict)\n",
    "    GlobalPredictions_normalized.append(predict_)\n",
    "    \n",
    "GlobalPredictions = np.array(GlobalPredictions)\n",
    "GlobalPredictions_normalized = np.array(GlobalPredictions_normalized)"
   ]
  },
  {
   "cell_type": "markdown",
   "metadata": {},
   "source": [
    "# 3.6 - Plot the predictions "
   ]
  },
  {
   "cell_type": "markdown",
   "metadata": {},
   "source": [
    "Without intervals"
   ]
  },
  {
   "cell_type": "code",
   "execution_count": null,
   "metadata": {},
   "outputs": [],
   "source": [
    "aux = np.full([valX_original.shape[0],1,15], np.nan)\n",
    "\n",
    "aux2 = np.full([predict.shape[0],1,15], np.nan)\n",
    "\n",
    "fig, ax = plt.subplots(figsize=(10, 3.5))\n",
    "for i in range(200, valX.shape[0], valX.shape[0]):\n",
    "\n",
    "    aux[i, 0, 4] = valY_original[i, 0, 0]\n",
    "    aux[i, 0, 9] = valY_original[i, 0, 1]\n",
    "    aux[i, 0, 14] = valY_original[i, 0, 2]\n",
    "    \n",
    "    aux2[i, 0, 4] = predict[i, 0]\n",
    "    aux2[i, 0, 9] = predict[i, 1]\n",
    "    aux2[i, 0, 14] = predict[i, 2]\n",
    "    \n",
    "    forecasts_original = np.concatenate((nan_array, valX_original[i, -1:, 7], aux2[i, 0, :]))\n",
    "    ground_truth = np.concatenate((nan_array, valX_original[i, -1:, 7], aux[i, 0, :]))\n",
    "    network_input = np.concatenate((valX_original[i, :, 7], nan_array2))\n",
    "\n",
    "    plt.xticks(rotation=45)\n",
    "    \n",
    "    SMALLER_SIZE = 18\n",
    "    SMALL_SIZE = 19\n",
    "    MEDIUM_SIZE = 23\n",
    "    BIGGER_SIZE = 25\n",
    "\n",
    "    #plt.('test title', fontsize=BIGGER_SIZE)\n",
    "    plt.rc('font', size=SMALL_SIZE)          # controls default text sizes\n",
    "    plt.rc('axes', titlesize=BIGGER_SIZE)    # fontsize of the axes title\n",
    "    plt.rc('axes', labelsize=SMALL_SIZE)     # fontsize of the x and y labels\n",
    "    plt.rc('xtick', labelsize=SMALL_SIZE)    # fontsize of the tick labels\n",
    "    plt.rc('ytick', labelsize=SMALL_SIZE)    # fontsize of the tick labels\n",
    "    plt.rc('legend', fontsize=SMALLER_SIZE)  # legend fontsize\n",
    "    plt.rc('figure', titlesize=BIGGER_SIZE)  # fontsize of the figure title\n",
    "\n",
    "    \n",
    "    \n",
    "    ax.plot(ind, ground_truth, 'r-o', markersize=10, markeredgecolor='black', linewidth=2, label='Av. Power')\n",
    "    \n",
    "    ax.plot(ind, forecasts_original, 'go--', markersize=10, linewidth=2, marker='h', markerfacecolor='lightgreen', \\\n",
    "             markeredgewidth=2, label='Forecast')\n",
    "            \n",
    "    ax.plot(ind[40:], network_input[40:], '-o', markersize=10, markeredgecolor='black', linewidth=2, label='Av. Power')\n",
    "    \n",
    " \n",
    "    \n",
    "    plt.ticklabel_format(axis='y', style='sci', scilimits=(5,5))\n",
    "    plt.xlabel('Date')\n",
    "    plt.ylabel('Available Power [W]')\n",
    "    plt.title('Model 1 - Available Power - Forecast')\n",
    "    plt.legend(loc='lower left')\n",
    "    #plt.savefig('Images/' + model_name, bbox_inches = 'tight')\n",
    "    plt.savefig('Images/' + model_name + '_op2', bbox_inches = 'tight')"
   ]
  },
  {
   "cell_type": "markdown",
   "metadata": {},
   "source": [
    "With Intervals"
   ]
  },
  {
   "cell_type": "code",
   "execution_count": null,
   "metadata": {
    "scrolled": true
   },
   "outputs": [],
   "source": [
    "mean = np.mean(GlobalPredictions, axis=0)\n",
    "\n",
    "ci_1 = 0.80\n",
    "lower_lim_1 = np.quantile(GlobalPredictions, 0.5-ci_1/2, axis=0)\n",
    "upper_lim_1 = np.quantile(GlobalPredictions, 0.5+ci_1/2, axis=0)\n",
    "\n",
    "ci_2 = 0.95\n",
    "lower_lim_2 = np.quantile(GlobalPredictions, 0.5-ci_2/2, axis=0)\n",
    "upper_lim_2 = np.quantile(GlobalPredictions, 0.5+ci_2/2, axis=0)\n",
    "\n",
    "\n",
    "aux = np.full([testX_original.shape[0],1,15], np.nan)\n",
    "\n",
    "aux2 = np.full([mean.shape[0],1,15], np.nan)\n",
    "\n",
    "aux3 = np.full([lower_lim_1.shape[0],1,15], np.nan)\n",
    "\n",
    "aux4 = np.full([upper_lim_1.shape[0],1,15], np.nan)\n",
    "\n",
    "aux5 = np.full([lower_lim_2.shape[0],1,15], np.nan)\n",
    "\n",
    "aux6 = np.full([upper_lim_2.shape[0],1,15], np.nan)\n",
    "\n",
    "fig, ax = plt.subplots(figsize=(10, 3.5))\n",
    "for i in range(635, testX.shape[0], testX.shape[0]):\n",
    "    \n",
    "    aux[i, 0, 4] = testY_original[i, 0, 0]\n",
    "    aux[i, 0, 9] = testY_original[i, 0, 1]\n",
    "    aux[i, 0, 14] = testY_original[i, 0, 2]\n",
    "    \n",
    "    aux2[i, 0, 4] = mean[i, 0]\n",
    "    aux2[i, 0, 9] = mean[i, 1]\n",
    "    aux2[i, 0, 14] = mean[i, 2]\n",
    "    \n",
    "    aux3[i, 0, 4] = lower_lim_1[i, 0]\n",
    "    aux3[i, 0, 9] = lower_lim_1[i, 1]\n",
    "    aux3[i, 0, 14] = lower_lim_1[i, 2]\n",
    "    \n",
    "    aux4[i, 0, 4] = upper_lim_1[i, 0]\n",
    "    aux4[i, 0, 9] = upper_lim_1[i, 1]\n",
    "    aux4[i, 0, 14] = upper_lim_1[i, 2]\n",
    "    \n",
    "    aux5[i, 0, 4] = lower_lim_2[i, 0]\n",
    "    aux5[i, 0, 9] = lower_lim_2[i, 1]\n",
    "    aux5[i, 0, 14] = lower_lim_2[i, 2]\n",
    "    \n",
    "    aux6[i, 0, 4] = upper_lim_2[i, 0]\n",
    "    aux6[i, 0, 9] = upper_lim_2[i, 1]\n",
    "    aux6[i, 0, 14] = upper_lim_2[i, 2]\n",
    "    \n",
    "    forecasts = np.concatenate((nan_array, testX_original[i, -1:, 7], aux2[i, 0, :]))\n",
    "    \n",
    "    lower_lim_1 = np.concatenate((nan_array, testX_original[i, -1:, 7], aux3[i, 0, :]))\n",
    "    upper_lim_1 = np.concatenate((nan_array, testX_original[i, -1:, 7], aux4[i, 0, :]))\n",
    "    lower_lim_2 = np.concatenate((nan_array, testX_original[i, -1:, 7], aux5[i, 0, :]))\n",
    "    upper_lim_2 = np.concatenate((nan_array, testX_original[i, -1:, 7], aux6[i, 0, :]))\n",
    "    \n",
    "    ground_truth = np.concatenate((nan_array, testX_original[i, -1:, 7], aux[i, 0, :]))\n",
    "    network_input = np.concatenate((testX_original[i, :, 7], nan_array2))\n",
    "\n",
    "    plt.xticks(rotation=45)\n",
    "    \n",
    "    SMALLER_SIZE = 18\n",
    "    SMALL_SIZE = 19\n",
    "    MEDIUM_SIZE = 23\n",
    "    BIGGER_SIZE = 25\n",
    "\n",
    "    #plt.('test title', fontsize=BIGGER_SIZE)\n",
    "    plt.rc('font', size=SMALL_SIZE)          # controls default text sizes\n",
    "    plt.rc('axes', titlesize=BIGGER_SIZE)    # fontsize of the axes title\n",
    "    plt.rc('axes', labelsize=SMALL_SIZE)     # fontsize of the x and y labels\n",
    "    plt.rc('xtick', labelsize=SMALL_SIZE)    # fontsize of the tick labels\n",
    "    plt.rc('ytick', labelsize=SMALL_SIZE)    # fontsize of the tick labels\n",
    "    plt.rc('legend', fontsize=SMALLER_SIZE)  # legend fontsize\n",
    "    plt.rc('figure', titlesize=BIGGER_SIZE)  # fontsize of the figure title\n",
    "\n",
    "\n",
    "    \n",
    "    plt.fill_between(ind, lower_lim_2, upper_lim_2, color='orange', linewidth=2, label = str(int(ci_2 *100)) + '% CI')\n",
    "        \n",
    "    ax.plot(ind, lower_lim_2, '-o', color='orange', markersize=20, marker='_')\n",
    "    ax.plot(ind, upper_lim_2, '-o', color='orange', markersize=20, marker='_')\n",
    "    \n",
    "    ax.plot(ind, ground_truth, 'r-o', markersize=10, markeredgecolor='black', linewidth=2, label='Av. Power')\n",
    "    \n",
    "    ax.plot(ind, forecasts, 'go--', markersize=10, linewidth=2, marker='h', markerfacecolor='lightgreen', \\\n",
    "             markeredgewidth=2, label='Forecast')\n",
    "            \n",
    "    ax.plot(ind[40:], network_input[40:], '-o', markersize=10, markeredgecolor='black', linewidth=2, label='Av. Power')\n",
    "    \n",
    "    plt.ticklabel_format(axis='y', style='sci', scilimits=(5,5))\n",
    "    plt.xlabel('Date')\n",
    "    plt.ylabel('Available Power [W]')\n",
    "    plt.title('Model 2 - Available Power - Forecast')\n",
    "    plt.legend(loc='lower left')\n",
    "    plt.savefig('Images/' + model_name , bbox_inches = 'tight')\n",
    "    #plt.savefig('Images/' + model_name + '_op2', bbox_inches = 'tight')"
   ]
  },
  {
   "cell_type": "markdown",
   "metadata": {},
   "source": [
    "# 3.7 - Get arrays with the predictions of only 5, 10 and 5 minutes ahead"
   ]
  },
  {
   "cell_type": "markdown",
   "metadata": {},
   "source": [
    "Without Intervals"
   ]
  },
  {
   "cell_type": "code",
   "execution_count": null,
   "metadata": {},
   "outputs": [],
   "source": [
    "predicted_normalized = []\n",
    "original_normalized = []\n",
    "\n",
    "predicted = []\n",
    "original = []\n",
    "\n",
    "aux = np.full([valY_original.shape[0],1,15], np.nan)\n",
    "aux5 = np.full([valY.shape[0],1,15], np.nan)\n",
    "aux1 = np.full([predict.shape[0],1,15], np.nan)\n",
    "aux2 = np.full([predict.shape[0],1,15], np.nan)\n",
    "\n",
    "\n",
    "for i in range(0, valX.shape[0]):\n",
    "\n",
    "    aux[i, 0, 4] = valY_original[i, 0, 0]\n",
    "    aux[i, 0, 9] = valY_original[i, 0, 1]\n",
    "    aux[i, 0, 14] = valY_original[i, 0, 2]\n",
    "\n",
    "    aux1[i, 0, 4] = predict_original[i, 0]\n",
    "    aux1[i, 0, 9] = predict_original[i, 1]\n",
    "    aux1[i, 0, 14] = predict_original[i, 2]\n",
    "\n",
    "    aux2[i, 0, 4] = predict[i, 0]\n",
    "    aux2[i, 0, 9] = predict[i, 1]\n",
    "    aux2[i, 0, 14] = predict[i, 2]\n",
    "\n",
    "    aux5[i, 0, 4] = valY[i, 0]\n",
    "    aux5[i, 0, 9] = valY[i, 1]\n",
    "    aux5[i, 0, 14] = valY[i, 2]\n",
    "\n",
    "    forecasts_normalized = np.concatenate((nan_array, valX[i, -1:, 7], aux1[i, 0, :]))\n",
    "    forecasts = np.concatenate((nan_array, valX_original[i, -1:, 7], aux2[i, 0, :]))\n",
    "\n",
    "    ground_truth_normalized = np.concatenate((nan_array, valX[i, -1:, 7], aux5[i, 0, :]))\n",
    "    ground_truth = np.concatenate((nan_array, valX_original[i, -1:, 7], aux[i, 0, :]))\n",
    "\n",
    "    predicted_normalized.append((forecasts_normalized[n_pre+4], forecasts_normalized[n_pre+9], forecasts_normalized[n_pre+14]))\n",
    "    predicted.append((forecasts[n_pre+4], forecasts[n_pre+9], forecasts[n_pre+14]))\n",
    "\n",
    "    original_normalized.append((ground_truth_normalized[n_pre+4], ground_truth_normalized[n_pre+9], ground_truth_normalized[n_pre+14]))\n",
    "    original.append((ground_truth[n_pre+4], ground_truth[n_pre+9], ground_truth[n_pre+14]))"
   ]
  },
  {
   "cell_type": "markdown",
   "metadata": {},
   "source": [
    "With Intervals"
   ]
  },
  {
   "cell_type": "code",
   "execution_count": null,
   "metadata": {},
   "outputs": [],
   "source": [
    "predicted_normalized = []\n",
    "predicted_mean_normalized = []\n",
    "original_normalized = []\n",
    "\n",
    "predicted = []\n",
    "predicted_mean = []\n",
    "original = []\n",
    "\n",
    "mean = np.mean(GlobalPredictions, axis=0)\n",
    "\n",
    "mean_normalized = np.mean(GlobalPredictions_normalized, axis=0)\n",
    "\n",
    "aux = np.full([testY_original.shape[0],1,15], np.nan)\n",
    "\n",
    "aux5 = np.full([testY.shape[0],1,15], np.nan)\n",
    "\n",
    "aux1 = np.full([predict.shape[0],1,15], np.nan)\n",
    "\n",
    "aux2 = np.full([predict.shape[0],1,15], np.nan)\n",
    "\n",
    "aux3 = np.full([mean.shape[0],1,15], np.nan)\n",
    "\n",
    "aux4 = np.full([mean_normalized.shape[0],1,15], np.nan)\n",
    "\n",
    "\n",
    "for j in range (0, testX.shape[0]):\n",
    "    for i in range(j, testX.shape[0], testX.shape[0]):\n",
    "        \n",
    "        aux[i, 0, 4] = testY_original[i, 0, 0]\n",
    "        aux[i, 0, 9] = testY_original[i, 0, 1]\n",
    "        aux[i, 0, 14] = testY_original[i, 0, 2]\n",
    "        \n",
    "        aux3[i, 0, 4] = mean[i, 0]\n",
    "        aux3[i, 0, 9] = mean[i, 1]\n",
    "        aux3[i, 0, 14] = mean[i, 2]\n",
    "        \n",
    "        aux4[i, 0, 4] = mean_normalized[i, 0]\n",
    "        aux4[i, 0, 9] = mean_normalized[i, 1]\n",
    "        aux4[i, 0, 14] = mean_normalized[i, 2]\n",
    "        \n",
    "        aux5[i, 0, 4] = testY[i, 0]\n",
    "        aux5[i, 0, 9] = testY[i, 1]\n",
    "        aux5[i, 0, 14] = testY[i, 2]\n",
    "        \n",
    "        forecasts_mean_normalized = np.concatenate((nan_array, testX[i, -1:, 7], aux4[i, 0, :]))\n",
    "        forecasts_mean = np.concatenate((nan_array, testX_original[i, -1:, 7], aux3[i, 0, :]))\n",
    "        \n",
    "        ground_truth_normalized = np.concatenate((nan_array, testX[i, -1:, 7], aux5[i, 0, :]))\n",
    "        ground_truth = np.concatenate((nan_array, testX_original[i, -1:, 7], aux[i, 0, :]))\n",
    "        \n",
    "        predicted_mean_normalized.append((forecasts_mean_normalized[n_pre+4], forecasts_mean_normalized[n_pre+9], forecasts_mean_normalized[n_pre+14]))\n",
    "        predicted_mean.append((forecasts_mean[n_pre+4], forecasts_mean[n_pre+9], forecasts_mean[n_pre+14]))\n",
    "        \n",
    "        original_normalized.append((ground_truth_normalized[n_pre+4], ground_truth_normalized[n_pre+9], ground_truth_normalized[n_pre+14]))\n",
    "        original.append((ground_truth[n_pre+4], ground_truth[n_pre+9], ground_truth[n_pre+14]))"
   ]
  },
  {
   "cell_type": "markdown",
   "metadata": {},
   "source": [
    "# 3.8 - Compute the validation errors"
   ]
  },
  {
   "cell_type": "code",
   "execution_count": null,
   "metadata": {},
   "outputs": [],
   "source": [
    "validation_rmse_5_normalized, validation_rmse_10_normalized, validation_rmse_15_normalized, \\\n",
    "validation_mse_5_normalized, validation_mse_10_normalized, validation_mse_15_normalized, \\\n",
    "validation_mae_5_normalized, validation_mae_10_normalized, validation_mae_15_normalized = \\\n",
    "printValidationErrorsNormalized(original_normalized, predicted_normalized)"
   ]
  },
  {
   "cell_type": "code",
   "execution_count": null,
   "metadata": {},
   "outputs": [],
   "source": [
    "validation_rmse_5, validation_rmse_10, validation_rmse_15, \\\n",
    "validation_mse_5, validation_mse_10, validation_mse_15, \\\n",
    "validation_mae_5, validation_mae_10, validation_mae_15 = \\\n",
    "printValidationErrors(original, predicted)"
   ]
  },
  {
   "cell_type": "markdown",
   "metadata": {},
   "source": [
    "# 3.9 - Compute the test errors"
   ]
  },
  {
   "cell_type": "code",
   "execution_count": null,
   "metadata": {},
   "outputs": [],
   "source": [
    "test_rmse_5, test_rmse_10, test_rmse_15,\\\n",
    "test_mse_5, test_mse_10, test_mse_15,\\\n",
    "test_mae_5, test_mae_10, test_mae_15 = printTestErrors(original, predicted_mean)"
   ]
  },
  {
   "cell_type": "code",
   "execution_count": null,
   "metadata": {},
   "outputs": [],
   "source": [
    "test_rmse_5_n, test_rmse_10_n, test_rmse_15_n,\\\n",
    "test_mse_5_n, test_mse_10_n, test_mse_15_n,\\\n",
    "test_mae_5_n, test_mae_10_n, test_mae_15_n = printTestErrorsNormalized(original_normalized, predicted_mean_normalized)"
   ]
  },
  {
   "cell_type": "markdown",
   "metadata": {},
   "source": [
    "# 3.10 - Plot the training and the validation error evolution"
   ]
  },
  {
   "cell_type": "code",
   "execution_count": null,
   "metadata": {},
   "outputs": [],
   "source": [
    "plt.figure(figsize=(20,5))\n",
    "plt.plot(history.history['loss'],label='Train MSE')\n",
    "plt.plot(history.history['val_loss'],label='Validation MSE')\n",
    "plt.title('Model Loss')\n",
    "plt.ylabel('mse')\n",
    "plt.xlabel('epoch')\n",
    "plt.legend(loc='best')\n",
    "plt.savefig('Images/' + model_name + '_Loss_' + dataset)\n",
    "plt.show()"
   ]
  },
  {
   "cell_type": "markdown",
   "metadata": {},
   "source": [
    "# 3.11 - Save the results"
   ]
  },
  {
   "cell_type": "code",
   "execution_count": null,
   "metadata": {},
   "outputs": [],
   "source": [
    "# serialize model to JSON\n",
    "model_json = model.to_json()\n",
    "with open('models/' + model_name, \"w\") as json_file:\n",
    "    json_file.write(model_json)\n",
    "# serialize weights to HDF5\n",
    "model.save_weights('models/' + model_name + '.h5')\n",
    "print(\"Saved model to disk\")"
   ]
  },
  {
   "cell_type": "code",
   "execution_count": null,
   "metadata": {},
   "outputs": [],
   "source": [
    "result = model.evaluate(x=testX, y=testY)\n",
    "print(\"loss (test-set):\", result)"
   ]
  },
  {
   "cell_type": "code",
   "execution_count": null,
   "metadata": {},
   "outputs": [],
   "source": [
    "with open('Test_' + dataset + '.csv', 'a', newline='') as file:\n",
    "    fieldnames = ['Model', \n",
    "                  'Test_MSE_n', 'Test_RMSE_n', 'Test_MAE_n',                  \n",
    "                  'Test_5_RMSE_n', 'Test_10_RMSE_n', 'Test_15_RMSE_n', \n",
    "                  'Test_5_MSE_n', 'Test_10_MSE_n', 'Test_15_MSE_n', \n",
    "                  'Test_5_MAE_n', 'Test_10_MAE_n', 'Test_15_MAE_n',\n",
    "                  \n",
    "                  'Test_5_RMSE', 'Test_10_RMSE', 'Test_15_RMSE', \n",
    "                  'Test_5_MSE', 'Test_10_MSE', 'Test_15_MSE', \n",
    "                  'Test_5_MAE', 'Test_10_MAE', 'Test_15_MAE']\n",
    "    \n",
    "    writer = csv.DictWriter(file, fieldnames=fieldnames)\n",
    "\n",
    "    writer.writeheader()\n",
    "\n",
    "with open('Test_' + dataset + '.csv', 'a', newline='') as file:\n",
    "    fieldnames = ['Model',\n",
    "                  'Test_MSE_n', 'Test_RMSE_n', 'Test_MAE_n',                  \n",
    "                  'Test_5_RMSE_n', 'Test_10_RMSE_n', 'Test_15_RMSE_n', \n",
    "                  'Test_5_MSE_n', 'Test_10_MSE_n', 'Test_15_MSE_n', \n",
    "                  'Test_5_MAE_n', 'Test_10_MAE_n', 'Test_15_MAE_n',\n",
    "                \n",
    "                  'Test_5_RMSE', 'Test_10_RMSE', 'Test_15_RMSE', \n",
    "                  'Test_5_MSE', 'Test_10_MSE', 'Test_15_MSE', \n",
    "                  'Test_5_MAE', 'Test_10_MAE', 'Test_15_MAE']\n",
    "    \n",
    "    writer = csv.DictWriter(file, fieldnames=fieldnames)\n",
    "       \n",
    "    writer.writerow({'Model': model_name, \n",
    "                     \n",
    "                     'Test_MSE_n': result[2], \n",
    "                     'Test_RMSE_n': result[3],\n",
    "                     'Test_MAE_n': result[1], \n",
    "                     \n",
    "                     'Test_5_RMSE_n': test_rmse_5_n,\n",
    "                     'Test_10_RMSE_n': test_rmse_10_n,\n",
    "                     'Test_15_RMSE_n': test_rmse_15_n, \n",
    "                     'Test_5_MSE_n': test_mse_5_n,\n",
    "                     'Test_10_MSE_n': test_mse_10_n,\n",
    "                     'Test_15_MSE_n': test_mse_15_n, \n",
    "                     'Test_5_MAE_n': test_mae_5_n,\n",
    "                     'Test_10_MAE_n': test_mae_10_n,\n",
    "                     'Test_15_MAE_n': test_mae_15_n,\n",
    "                                     \n",
    "                     'Test_5_RMSE': test_rmse_5,\n",
    "                     'Test_10_RMSE': test_rmse_10,\n",
    "                     'Test_15_RMSE': test_rmse_15, \n",
    "                     'Test_5_MSE': test_mse_5,\n",
    "                     'Test_10_MSE': test_mse_10,\n",
    "                     'Test_15_MSE': test_mse_15, \n",
    "                     'Test_5_MAE': test_mae_5,\n",
    "                     'Test_10_MAE': test_mae_10,\n",
    "                     'Test_15_MAE': test_mae_15                 \n",
    "                                        })"
   ]
  },
  {
   "cell_type": "code",
   "execution_count": null,
   "metadata": {},
   "outputs": [],
   "source": [
    "with open('ValidationProcess_' + dataset + '.csv', 'a', newline='') as file:\n",
    "    fieldnames = ['Model', 'Time', 'Epochs', 'Time_Epoch',\n",
    "                  'Train_MSE', 'Train_RMSE', 'Train_MAE', \n",
    "                  'Validation_MSE', 'Validation_RMSE', 'Validation_MAE',                  \n",
    "                  'Validation_5_RMSE', 'Validation_10_RMSE', 'Validation_15_RMSE', \n",
    "                  'Validation_5_MSE', 'Validation_10_MSE', 'Validation_15_MSE', \n",
    "                  'Validation_5_MAE', 'Validation_10_MAE', 'Validation_15_MAE']\n",
    "    \n",
    "    writer = csv.DictWriter(file, fieldnames=fieldnames)\n",
    "\n",
    "    writer.writeheader()\n",
    "\n",
    "with open('ValidationProcess_' + dataset + '.csv', 'a', newline='') as file:\n",
    "    fieldnames = ['Model', 'Time', 'Epochs', 'Time_Epoch',\n",
    "                  'Train_MSE', 'Train_RMSE', 'Train_MAE',\n",
    "                  'Validation_MSE', 'Validation_RMSE', 'Validation_MAE',                  \n",
    "                  \n",
    "                  'Validation_5_RMSE', 'Validation_10_RMSE', 'Validation_15_RMSE', \n",
    "                  'Validation_5_MSE', 'Validation_10_MSE', 'Validation_15_MSE', \n",
    "                  'Validation_5_MAE', 'Validation_10_MAE', 'Validation_15_MAE']\n",
    "    \n",
    "    writer = csv.DictWriter(file, fieldnames=fieldnames)\n",
    "       \n",
    "    writer.writerow({'Model': model_name, \n",
    "                     'Time': Total_Time, \n",
    "                     'Epochs': n_epochs, \n",
    "                     'Time_Epoch': Time_Epoch, \n",
    "                     \n",
    "                     'Train_MSE': Train_mse,\n",
    "                     'Train_RMSE': Train_rmse,\n",
    "                     'Train_MAE': Train_mae, \n",
    "                     'Validation_MSE': Validation_mse, \n",
    "                     'Validation_RMSE': Validation_rmse, \n",
    "                     'Validation_MAE':Validation_mae , \n",
    "\n",
    "                  \n",
    "                     'Validation_5_RMSE': validation_rmse_5_normalized, \n",
    "                     'Validation_10_RMSE': validation_rmse_10_normalized, \n",
    "                     'Validation_15_RMSE': validation_rmse_15_normalized,\n",
    "                     'Validation_5_MSE': validation_mse_5_normalized, \n",
    "                     'Validation_10_MSE': validation_mse_10_normalized, \n",
    "                     'Validation_15_MSE': validation_mse_15_normalized,\n",
    "                     'Validation_5_MAE': validation_mae_5_normalized, \n",
    "                     'Validation_10_MAE': validation_mae_10_normalized, \n",
    "                     'Validation_15_MAE': validation_mae_15_normalized,})\n",
    "\n",
    "\n"
   ]
  }
 ],
 "metadata": {
  "kernelspec": {
   "display_name": "TensorFlow-GPU",
   "language": "python",
   "name": "tf-gpu"
  },
  "language_info": {
   "codemirror_mode": {
    "name": "ipython",
    "version": 3
   },
   "file_extension": ".py",
   "mimetype": "text/x-python",
   "name": "python",
   "nbconvert_exporter": "python",
   "pygments_lexer": "ipython3",
   "version": "3.7.7"
  }
 },
 "nbformat": 4,
 "nbformat_minor": 4
}
